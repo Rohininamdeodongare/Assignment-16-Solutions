{
 "cells": [
  {
   "cell_type": "code",
   "execution_count": null,
   "id": "3af93588",
   "metadata": {},
   "outputs": [],
   "source": [
    "          Assignment 16 Solutions"
   ]
  },
  {
   "cell_type": "code",
   "execution_count": 1,
   "id": "95798e03",
   "metadata": {},
   "outputs": [
    {
     "name": "stdout",
     "output_type": "stream",
     "text": [
      "[1997, 1998, 1999, 2000, 2001, 2002]\n"
     ]
    }
   ],
   "source": [
    "Q.1. Create a list called years_list, starting with the year of your birth, \n",
    "and each year thereafter until the year of your fifth birthday.\n",
    "For example, if you were born in 1980. the list would \n",
    "be years_list = [1980, 1981, 1982, 1983, 1984, 1985].\n",
    "#Answer:-\n",
    "years_list = [ele for ele in range(1997,1997+6)]\n",
    "print(years_list)"
   ]
  },
  {
   "cell_type": "code",
   "execution_count": 2,
   "id": "7a16c78b",
   "metadata": {},
   "outputs": [
    {
     "name": "stdout",
     "output_type": "stream",
     "text": [
      "2000\n"
     ]
    }
   ],
   "source": [
    "2. In which year in years_list was your third birthday? Remember, \n",
    "you were 0 years of age for your first year.\n",
    "#Answer:-\n",
    "print(years_list[3])"
   ]
  },
  {
   "cell_type": "code",
   "execution_count": 3,
   "id": "fcab1883",
   "metadata": {},
   "outputs": [
    {
     "name": "stdout",
     "output_type": "stream",
     "text": [
      "2002\n"
     ]
    }
   ],
   "source": [
    "Q.3.In the years list, which year were you the oldest?\n",
    "#Answer:-\n",
    "print(years_list[-1])"
   ]
  },
  {
   "cell_type": "code",
   "execution_count": 4,
   "id": "0cb6e18c",
   "metadata": {},
   "outputs": [
    {
     "name": "stdout",
     "output_type": "stream",
     "text": [
      "['mozzarella', 'cinderella', 'salmonella']\n"
     ]
    }
   ],
   "source": [
    "Q4. Make a list called things with these three strings as elements:\n",
    "    \"mozzarella\", \"cinderella\", \"salmonella\".\n",
    "#Answer;-\n",
    "things = [ele+'ella' for ele in ['mozzar','cinder','salmon']]\n",
    "print(things)"
   ]
  },
  {
   "cell_type": "code",
   "execution_count": 5,
   "id": "3229285d",
   "metadata": {},
   "outputs": [
    {
     "name": "stdout",
     "output_type": "stream",
     "text": [
      "['mozzarella', 'Cinderella', 'salmonella']\n"
     ]
    }
   ],
   "source": [
    "Q.5. Capitalize the element in things that refers to a person and then \n",
    "print the list. Did it change the element in the list?\n",
    "#Answer:-\n",
    "for ele in range(len(things)):\n",
    "    if things[ele] == 'cinderella':\n",
    "        things[ele] = things[ele].capitalize()\n",
    "print(things)"
   ]
  },
  {
   "cell_type": "code",
   "execution_count": 6,
   "id": "f27777c8",
   "metadata": {},
   "outputs": [
    {
     "name": "stdout",
     "output_type": "stream",
     "text": [
      "['Groucho', 'Chico', 'Harpo']\n"
     ]
    }
   ],
   "source": [
    "Q.6. Make a surprise list with the elements \"Groucho,\" \"Chico,\" and \"Harpo.\"\n",
    "#Answer:-\n",
    "    suprise_list = ['Groucho','Chico','Harpo']\n",
    "print(suprise_list)"
   ]
  },
  {
   "cell_type": "code",
   "execution_count": 7,
   "id": "a3f9f866",
   "metadata": {},
   "outputs": [
    {
     "name": "stdout",
     "output_type": "stream",
     "text": [
      "Oprah\n"
     ]
    }
   ],
   "source": [
    "Q.7. Lowercase the last element of the surprise list, reverse it, and then capitalize it.\n",
    "#Answer:-\n",
    "print(suprise_list[-1].lower()[::-1].capitalize())"
   ]
  },
  {
   "cell_type": "code",
   "execution_count": 8,
   "id": "ba7808e7",
   "metadata": {},
   "outputs": [
    {
     "name": "stdout",
     "output_type": "stream",
     "text": [
      "{'dog': 'chien', 'cat': 'chat', 'walrus': 'morse'}\n"
     ]
    }
   ],
   "source": [
    "Q.8. Make an English-to-French dictionary called e2f and print it. \n",
    "Here are your starter words: dog is chien, cat is chat, and walrus is morse.\n",
    "#Answer:-\n",
    "e2f = {'dog':'chien','cat':'chat','walrus':'morse'}\n",
    "print(e2f)"
   ]
  },
  {
   "cell_type": "code",
   "execution_count": 9,
   "id": "80e74133",
   "metadata": {},
   "outputs": [
    {
     "name": "stdout",
     "output_type": "stream",
     "text": [
      "morse\n"
     ]
    }
   ],
   "source": [
    "Q.9. Write the French word for walrus in your three-word dictionary e2f.\n",
    "#Answer:-\n",
    "print(e2f.get('walrus'))"
   ]
  },
  {
   "cell_type": "code",
   "execution_count": 10,
   "id": "b6e47847",
   "metadata": {},
   "outputs": [
    {
     "name": "stdout",
     "output_type": "stream",
     "text": [
      "{'chien': 'dog', 'chat': 'cat', 'morse': 'walrus'}\n"
     ]
    }
   ],
   "source": [
    "Q.10. Make a French-to-English dictionary called f2e from e2f. Use the items method.\n",
    "#Answer:-\n",
    "f2e = dict([ele[::-1] for ele in e2f.items()])\n",
    "print(f2e)"
   ]
  },
  {
   "cell_type": "code",
   "execution_count": 11,
   "id": "8d63dac4",
   "metadata": {},
   "outputs": [
    {
     "name": "stdout",
     "output_type": "stream",
     "text": [
      "dog\n"
     ]
    }
   ],
   "source": [
    "Q.11. Print the English version of the French word chien using f2e.\n",
    "#Answer:-\n",
    "print(f2e.get('chien'))"
   ]
  },
  {
   "cell_type": "code",
   "execution_count": 12,
   "id": "9cc25227",
   "metadata": {},
   "outputs": [
    {
     "name": "stdout",
     "output_type": "stream",
     "text": [
      "['dog', 'cat', 'walrus']\n"
     ]
    }
   ],
   "source": [
    "Q.12. Make and print a set of English words from the keys in e2f.\n",
    "#Answer:-\n",
    "print(list(e2f.keys()))"
   ]
  },
  {
   "cell_type": "code",
   "execution_count": 13,
   "id": "dbaa4fa9",
   "metadata": {},
   "outputs": [
    {
     "name": "stdout",
     "output_type": "stream",
     "text": [
      "{'animals': {'cats': ['Henri', 'Grumpy', 'Lucy'], 'octopi': {}, 'emus': {}}, 'plants': {}, 'other': {}}\n"
     ]
    }
   ],
   "source": [
    "Q.13. Make a multilevel dictionary called life. \n",
    "Use these strings for the topmost keys: 'animals', 'plants', and 'other'.\n",
    "    Make the 'animals' key refer to another dictionary with the keys \n",
    "    'cats', 'octopi', and 'emus'. Make the 'cats' key refer to a list \n",
    "    of strings with the values 'Henri', 'Grumpy', and 'Lucy'. Make all\n",
    "    the other keys refer to empty dictionaries.\n",
    "#Answer:-\n",
    "life = {\n",
    "    'animals':{\n",
    "        'cats':['Henri','Grumpy','Lucy'],\n",
    "        'octopi':{},\n",
    "        'emus':{}\n",
    "    },\n",
    "    'plants':{},\n",
    "    'other':{}\n",
    "}\n",
    "print(life)"
   ]
  },
  {
   "cell_type": "code",
   "execution_count": 14,
   "id": "d26d8709",
   "metadata": {},
   "outputs": [
    {
     "name": "stdout",
     "output_type": "stream",
     "text": [
      "['animals', 'plants', 'other']\n"
     ]
    }
   ],
   "source": [
    "Q.14. Print the top-level keys of life.\n",
    "#Answer:-\n",
    "print(list(life.keys()))"
   ]
  },
  {
   "cell_type": "code",
   "execution_count": 15,
   "id": "c2a00e61",
   "metadata": {},
   "outputs": [
    {
     "name": "stdout",
     "output_type": "stream",
     "text": [
      "['cats', 'octopi', 'emus']\n"
     ]
    }
   ],
   "source": [
    "Q.15. Print the keys for life['animals']\n",
    "#Answer:-\n",
    "print(list(life['animals'].keys()))"
   ]
  },
  {
   "cell_type": "code",
   "execution_count": 18,
   "id": "eeec0358",
   "metadata": {},
   "outputs": [
    {
     "name": "stdout",
     "output_type": "stream",
     "text": [
      "['Henri', 'Grumpy', 'Lucy']\n"
     ]
    }
   ],
   "source": [
    "Q.16. Print the values for life['animals']['cats']\n",
    "#Answer:-\n",
    "print(life['animals']['cats'])"
   ]
  },
  {
   "cell_type": "code",
   "execution_count": null,
   "id": "b45ebb6f",
   "metadata": {},
   "outputs": [],
   "source": []
  }
 ],
 "metadata": {
  "kernelspec": {
   "display_name": "Python 3 (ipykernel)",
   "language": "python",
   "name": "python3"
  },
  "language_info": {
   "codemirror_mode": {
    "name": "ipython",
    "version": 3
   },
   "file_extension": ".py",
   "mimetype": "text/x-python",
   "name": "python",
   "nbconvert_exporter": "python",
   "pygments_lexer": "ipython3",
   "version": "3.9.12"
  }
 },
 "nbformat": 4,
 "nbformat_minor": 5
}
